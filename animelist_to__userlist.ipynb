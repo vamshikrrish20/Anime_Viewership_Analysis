{
  "nbformat": 4,
  "nbformat_minor": 0,
  "metadata": {
    "colab": {
      "provenance": [],
      "gpuType": "T4"
    },
    "kernelspec": {
      "name": "python3",
      "display_name": "Python 3"
    },
    "language_info": {
      "name": "python"
    },
    "accelerator": "GPU"
  },
  "cells": [
    {
      "cell_type": "code",
      "source": [
        "#Importing Necessary Libraries\n",
        "import pandas as pd\n",
        "import matplotlib.pyplot as plt\n",
        "import seaborn as sns"
      ],
      "metadata": {
        "id": "FRXbpS7Au83v"
      },
      "execution_count": null,
      "outputs": []
    },
    {
      "cell_type": "code",
      "source": [
        "#Loading the Data\n",
        "animelist_path = \"/content/drive/MyDrive/Orginal files/animelist.csv\"\n",
        "animelist_df = pd.read_csv(animelist_path)\n"
      ],
      "metadata": {
        "id": "1KHziJucu6ZW"
      },
      "execution_count": null,
      "outputs": []
    },
    {
      "cell_type": "code",
      "source": [
        "#Reducing the animelist dataset to 0.5% of its original size randomly due to compute power constraints for my project\n",
        "sample_size = int(len(animelist_df) * 0.5)\n",
        "user_list_df = animelist_df.sample(n=sample_size, random_state=42)"
      ],
      "metadata": {
        "id": "3XkmAtIiJxA0"
      },
      "execution_count": null,
      "outputs": []
    },
    {
      "cell_type": "code",
      "source": [
        "#Saving new df to user_listcsv\n",
        "user_list.to_csv('/content/drive/MyDrive/Orginal files/user_list.csv')"
      ],
      "metadata": {
        "id": "1HPAYdxju-9B"
      },
      "execution_count": null,
      "outputs": []
    }
  ]
}